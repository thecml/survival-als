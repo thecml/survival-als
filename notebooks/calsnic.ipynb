{
 "cells": [
  {
   "cell_type": "markdown",
   "metadata": {},
   "source": [
    "# CALSNIC Dataset"
   ]
  },
  {
   "cell_type": "code",
   "execution_count": 15,
   "metadata": {},
   "outputs": [],
   "source": [
    "import config as cfg\n",
    "from pathlib import Path\n",
    "import pandas as pd\n",
    "import matplotlib.pyplot as plt\n",
    "import seaborn as sns\n",
    "import numpy as np\n",
    "import torch\n",
    "from utility.survival import make_time_bins\n",
    "from utility.plot import load_tf_color\n",
    "from SurvivalEVAL.Evaluations.util import KaplanMeier\n",
    "\n",
    "matplotlib_style = 'default'\n",
    "import matplotlib.pyplot as plt; plt.style.use(matplotlib_style)\n",
    "plt.rcParams.update({'axes.labelsize': 'large',\n",
    "                     'axes.titlesize': 'large',\n",
    "                     'font.size': 14.0,\n",
    "                     'text.usetex': True,\n",
    "                     'text.latex.preamble': r'\\usepackage{amsfonts} \\usepackage{bm}'})\n",
    "\n",
    "TFColor = load_tf_color()\n",
    "date_cols = ['Visit_Date', 'Date of death', 'ALSFRS_Date', 'SymptomOnset_Date']\n",
    "df = pd.read_csv(Path.joinpath(cfg.CALSNIC_DATA_DIR, 'calsnic_processed.csv'), index_col=0, parse_dates=date_cols)\n",
    "event_names = ['Speech', 'Swallowing', 'Handwriting', 'Walking']\n",
    "for event_name in event_names:\n",
    "    df = df.loc[(df[f'TTE_{event_name}'] > 0) & (df[f'TTE_{event_name}'] <= 365)] # 0 - 250"
   ]
  },
  {
   "cell_type": "code",
   "execution_count": 16,
   "metadata": {},
   "outputs": [
    {
     "name": "stdout",
     "output_type": "stream",
     "text": [
      "Number of samples: 149\n",
      "Number of censored/uncensored: 137/12\n",
      "91.95% of records are censored\n",
      "\n",
      "Number of samples: 149\n",
      "Number of censored/uncensored: 143/6\n",
      "95.97% of records are censored\n",
      "\n",
      "Number of samples: 149\n",
      "Number of censored/uncensored: 132/17\n",
      "88.59% of records are censored\n",
      "\n",
      "Number of samples: 149\n",
      "Number of censored/uncensored: 137/12\n",
      "91.95% of records are censored\n",
      "\n"
     ]
    }
   ],
   "source": [
    "for event_col in event_names:\n",
    "    obs_arr = np.array(df[f'Event_{event_col}'])\n",
    "    n_censored = obs_arr.shape[0] - obs_arr.sum()\n",
    "    print(f\"Number of samples: {len(df)}\")\n",
    "    print(f\"Number of censored/uncensored: {n_censored}/{obs_arr.shape[0]-n_censored}\")\n",
    "    print(f\"{round(n_censored / obs_arr.shape[0] * 100, 2)}% of records are censored\\n\")"
   ]
  },
  {
   "cell_type": "code",
   "execution_count": 17,
   "metadata": {},
   "outputs": [
    {
     "data": {
      "image/png": "[encoded data removed]",
      "text/plain": [
       "<Figure size 1600x400 with 4 Axes>"
      ]
     },
     "metadata": {},
     "output_type": "display_data"
    }
   ],
   "source": [
    "# Plot event distribution\n",
    "fig, axs = plt.subplots(nrows=1, ncols=4, figsize=(16, 4))\n",
    "axs = axs.flatten()\n",
    "for i, col in enumerate(event_names):\n",
    "    event = df[[f'TTE_{col}', f'Event_{col}']]\n",
    "    sns.histplot(x=f'TTE_{col}', data=event, hue=f'Event_{col}',\n",
    "                 multiple=\"stack\", bins=25, ax=axs[i], stat=\"percent\")\n",
    "    axs[i].set_xlabel(\"Time $t$ [days]\")\n",
    "    if i == 0:\n",
    "        axs[i].set_ylabel(\"Percent ($\\%$)\")\n",
    "    else:\n",
    "        axs[i].set_ylabel(\"\")\n",
    "    axs[i].grid(True, alpha=0.25)\n",
    "    #axs[i].set_xticks([100, 200, 250])\n",
    "    axs[i].legend(title=event_names[i], loc='upper right', labels=[\"True\", \"False\"])\n",
    "plt.tight_layout()\n",
    "plt.savefig(f\"{cfg.PLOTS_DIR}/calsnic_event_distribution.pdf\", format='pdf', bbox_inches='tight')\n",
    "plt.show()"
   ]
  },
  {
   "cell_type": "code",
   "execution_count": null,
   "metadata": {},
   "outputs": [],
   "source": [
    "# Plot KM curves\n",
    "event_times = df[['TTE_Speech', 'TTE_Swallowing', 'TTE_Handwriting', 'TTE_Walking']].to_numpy()\n",
    "event_indicators = df[['Event_Speech', 'Event_Swallowing', 'Event_Handwriting', 'Event_Walking']].to_numpy()\n",
    "\n",
    "time_bins = make_time_bins(event_times, event=None)\n",
    "time_bins = torch.cat((torch.tensor([0]), time_bins))\n",
    "\n",
    "# Initialize subplots\n",
    "fig, axes = plt.subplots(2, 2, figsize=(8, 6))\n",
    "axes = axes.flatten()\n",
    "\n",
    "for event_id in range(4): # 4 events\n",
    "    times = event_times[:, event_id]\n",
    "    indicators = event_indicators[:, event_id]\n",
    "    \n",
    "    km_model = KaplanMeier(times, indicators)\n",
    "    km_surv_prob = torch.from_numpy(km_model.predict(time_bins)).numpy()\n",
    "    \n",
    "    # Plotting the survival curve\n",
    "    axes[event_id].step(time_bins.numpy(), km_surv_prob, where='post',\n",
    "                        label=r\"$\\mathbb{E}[S(t)]$\" + f\" {event_names[event_id]}\", color=TFColor[3])\n",
    "    axes[event_id].set_xlabel(\"Time $t$ [days]\")\n",
    "    if event_id % 2 == 0:\n",
    "        axes[event_id].set_ylabel(\"Survival Probability\")\n",
    "    axes[event_id].set_ylim(0, 1)\n",
    "    axes[event_id].legend(loc='lower left')\n",
    "    axes[event_id].grid(True, alpha=0.25)\n",
    "\n",
    "# Adjust layout to avoid overlap\n",
    "plt.tight_layout()\n",
    "plt.savefig(f\"{cfg.PLOTS_DIR}/calsnic_km_curves.pdf\", format='pdf', bbox_inches='tight')\n",
    "plt.show()"
   ]
  }
 ],
 "metadata": {
  "kernelspec": {
   "display_name": "py39-als",
   "language": "python",
   "name": "python3"
  },
  "language_info": {
   "codemirror_mode": {
    "name": "ipython",
    "version": 3
   },
   "file_extension": ".py",
   "mimetype": "text/x-python",
   "name": "python",
   "nbconvert_exporter": "python",
   "pygments_lexer": "ipython3",
   "version": "3.9.18"
  }
 },
 "nbformat": 4,
 "nbformat_minor": 2
}
