{
 "cells": [
  {
   "cell_type": "code",
   "execution_count": 1,
   "metadata": {},
   "outputs": [
    {
     "name": "stderr",
     "output_type": "stream",
     "text": [
      "c:\\Users\\cml\\miniconda3\\envs\\py39-als\\lib\\site-packages\\tqdm\\auto.py:21: TqdmWarning: IProgress not found. Please update jupyter and ipywidgets. See https://ipywidgets.readthedocs.io/en/stable/user_install.html\n",
      "  from .autonotebook import tqdm as notebook_tqdm\n"
     ]
    }
   ],
   "source": [
    "import config as cfg\n",
    "from pathlib import Path\n",
    "import pandas as pd\n",
    "import matplotlib.pyplot as plt\n",
    "import seaborn as sns\n",
    "import numpy as np\n",
    "import torch\n",
    "\n",
    "# Load CALSNIC\n",
    "date_cols = ['Visit_Date', 'Date of death', 'ALSFRS_Date', 'SymptomOnset_Date']\n",
    "calsnic_df = pd.read_csv(Path.joinpath(cfg.CALSNIC_DATA_DIR, 'calsnic_processed.csv'), index_col=0, parse_dates=date_cols)\n",
    "\n",
    "# Load PROACT\n",
    "proact_df = pd.read_csv(Path.joinpath(cfg.PROACT_DATA_DIR, 'proact_processed.csv'), index_col=0)\n",
    "\n",
    "event_names = ['Speech', 'Swallowing', 'Handwriting', 'Walking']\n",
    "for event_name in event_names:\n",
    "    calsnic_df = calsnic_df.loc[(calsnic_df[f'TTE_{event_name}'] > 0) & (calsnic_df[f'TTE_{event_name}'] <= 500)]\n",
    "    proact_df = proact_df.loc[(proact_df[f'TTE_{event_name}'] > 0) & (proact_df[f'TTE_{event_name}'] <= 500)]"
   ]
  },
  {
   "cell_type": "code",
   "execution_count": 2,
   "metadata": {},
   "outputs": [
    {
     "name": "stdout",
     "output_type": "stream",
     "text": [
      "N: 151\n",
      "Age: 59.7 (10.4)\n",
      "Height: 167.3 (19.2)\n",
      "Weight: 76.5 (18.6)\n",
      "BMI: 27.0 (4.6)\n",
      "ALSFRS_TotalScore: 37.9 (5.4)\n",
      "Time_in_study: 240.2 (114.9)\n",
      "\n",
      "Percentage of female: 40.4%\n",
      "Percentage of SOO_Limb: 81.5%\n",
      "Percentage of SOO_Bulbar: 17.2%\n",
      "Percentage of Subject_used_Riluzole: 58.9%\n",
      "\n"
     ]
    }
   ],
   "source": [
    "# Print statistics for CALSNIC dataset\n",
    "df = calsnic_df\n",
    "df['Time_in_study'] = df.apply(lambda x: max(x['TTE_Speech'],  x['TTE_Swallowing'], x['TTE_Handwriting'], x['TTE_Walking']), axis=1)\n",
    "df['SOO_Limb'] = df['Region_of_Onset'].apply(lambda x: 1 if x in [\"lower_extremity\", \"upper_extremity\", 'upper_extremity_lower_extremity'] else 0)\n",
    "df['SOO_Bulbar'] = df['Region_of_Onset'].apply(lambda x: 1 if x in [\"bulbar\"] else 0)\n",
    "\n",
    "num_features = ['Age', 'Height', 'Weight', 'BMI', 'ALSFRS_TotalScore', 'Time_in_study']\n",
    "cat_features = ['Sex', 'SOO_Limb', 'SOO_Bulbar', 'SOO_Spine', 'Subject_used_Riluzole']\n",
    "\n",
    "print(f\"N: {df.shape[0]}\")\n",
    "\n",
    "for col in num_features:\n",
    "    mean = df[col].astype(float).mean(axis=0).round(1)\n",
    "    std = df[col].astype(float).std(axis=0).round(1)\n",
    "    text = mean.astype(str) + \" (\" + std.astype(str) + \")\"\n",
    "    print(f\"{col}: {text}\")\n",
    "\n",
    "print()\n",
    "print(f\"Percentage of female: {df['Sex'].value_counts(normalize=True)['Female'] * 100:.1f}%\")\n",
    "print(f\"Percentage of SOO_Limb: {df['SOO_Limb'].value_counts(normalize=True)[1] * 100:.1f}%\")\n",
    "print(f\"Percentage of SOO_Bulbar: {df['SOO_Bulbar'].value_counts(normalize=True)[1] * 100:.1f}%\")\n",
    "print(f\"Percentage of Subject_used_Riluzole: {df['Subject_used_Riluzole'].value_counts(normalize=True)['Yes'] * 100:.1f}%\")\n",
    "print()"
   ]
  },
  {
   "cell_type": "code",
   "execution_count": 4,
   "metadata": {},
   "outputs": [
    {
     "name": "stdout",
     "output_type": "stream",
     "text": [
      "N: 4664\n",
      "Age: 56.4 (11.4)\n",
      "Height: 171.1 (9.4)\n",
      "Weight: 75.8 (14.7)\n",
      "BMI: 25.7 (4.1)\n",
      "ALSFRS_R_Total: 38.5 (5.2)\n",
      "Time_in_study: 302.0 (122.1)\n",
      "\n",
      "Percentage of female: 35.0%\n",
      "Percentage of Caucasian: 94.3%\n",
      "Percentage of SOO_Limb: 42.4%\n",
      "Percentage of SOO_Bulbar: 15.8%\n",
      "Percentage of SOO_Other: 4.9%\n",
      "Percentage of Subject_used_Riluzole: 76.5%\n",
      "\n"
     ]
    }
   ],
   "source": [
    "# Print statistics for PROACT dataset\n",
    "df = proact_df\n",
    "df['Time_in_study'] = df.apply(lambda x: max(x['TTE_Speech'],  x['TTE_Swallowing'], x['TTE_Handwriting'], x['TTE_Walking']), axis=1)\n",
    "df['SOO_Limb'] = df['Site_of_Onset'].apply(lambda x: 1 if x in [\"Limb\", \"LimbAndBulbar\"] else 0)\n",
    "df['SOO_Bulbar'] = df['Site_of_Onset'].apply(lambda x: 1 if x in [\"Bulbar\", \"LimbAndBulbar\"] else 0)\n",
    "df['SOO_Other'] = df['Site_of_Onset'].apply(lambda x: 1 if x in [\"Other\"] else 0)\n",
    "\n",
    "num_features = ['Age', 'Height', 'Weight', \"BMI\", 'ALSFRS_R_Total', 'Time_in_study']\n",
    "cat_features = ['Sex', 'Race_Caucasian', 'SOO_Limb', 'SOO_Bulbar', 'SOO_Spine', 'Subject_used_Riluzole']\n",
    "\n",
    "print(f\"N: {df.shape[0]}\")\n",
    "\n",
    "for col in num_features:\n",
    "    mean = df[col].astype(float).mean(axis=0).round(1)\n",
    "    std = df[col].astype(float).std(axis=0).round(1)\n",
    "    text = mean.astype(str) + \" (\" + std.astype(str) + \")\"\n",
    "    print(f\"{col}: {text}\")\n",
    "\n",
    "print()\n",
    "print(f\"Percentage of female: {df['Sex'].value_counts(normalize=True)['Female'] * 100:.1f}%\")\n",
    "print(f\"Percentage of Caucasian: {df['Race_Caucasian'].value_counts(normalize=True)[1.0] * 100:.1f}%\")\n",
    "print(f\"Percentage of SOO_Limb: {df['SOO_Limb'].value_counts(normalize=True)[1] * 100:.1f}%\")\n",
    "print(f\"Percentage of SOO_Bulbar: {df['SOO_Bulbar'].value_counts(normalize=True)[1] * 100:.1f}%\")\n",
    "print(f\"Percentage of SOO_Other: {df['SOO_Other'].value_counts(normalize=True)[1] * 100:.1f}%\")\n",
    "print(f\"Percentage of Subject_used_Riluzole: {df['Subject_used_Riluzole'].value_counts(normalize=True)['Yes'] * 100:.1f}%\")\n",
    "print()"
   ]
  }
 ],
 "metadata": {
  "kernelspec": {
   "display_name": "py39-als",
   "language": "python",
   "name": "python3"
  },
  "language_info": {
   "codemirror_mode": {
    "name": "ipython",
    "version": 3
   },
   "file_extension": ".py",
   "mimetype": "text/x-python",
   "name": "python",
   "nbconvert_exporter": "python",
   "pygments_lexer": "ipython3",
   "version": "3.9.19"
  }
 },
 "nbformat": 4,
 "nbformat_minor": 2
}
