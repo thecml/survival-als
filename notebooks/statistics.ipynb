{
 "cells": [
  {
   "cell_type": "code",
   "execution_count": 7,
   "metadata": {},
   "outputs": [],
   "source": [
    "import config as cfg\n",
    "from pathlib import Path\n",
    "import pandas as pd\n",
    "\n",
    "# Load PROACT\n",
    "df = pd.read_csv(Path.joinpath(cfg.PROACT_DATA_DIR, 'proact_processed.csv'), index_col=0)\n",
    "event_names = ['Speech', 'Swallowing', 'Handwriting', 'Walking']\n",
    "for event_name in event_names:\n",
    "    df = df.loc[(df[f'TTE_{event_name}'] > 0) & (df[f'TTE_{event_name}'] <= 500)]\n",
    "    df = df.loc[(df[f'Event_{event_name}'] == 0) | (df[f'Event_{event_name}'] == 1)]"
   ]
  },
  {
   "cell_type": "code",
   "execution_count": 9,
   "metadata": {},
   "outputs": [
    {
     "name": "stdout",
     "output_type": "stream",
     "text": [
      "N: 3220\n",
      "Age: 55.8 (11.6)\n",
      "Height: 172.0 (9.5)\n",
      "Weight: 76.3 (14.6)\n",
      "BMI: 25.7 (4.0)\n",
      "ALSFRS_R_Total: 39.4 (5.0)\n",
      "Time_in_study: 271.4 (122.7)\n",
      "\n",
      "Percentage of female: 32.2%\n",
      "Percentage of Caucasian: 94.6%\n",
      "Percentage of SOO_Limb: 43.3%\n",
      "Percentage of SOO_Bulbar: 13.4%\n",
      "Percentage of SOO_Other: 4.3%\n",
      "Percentage of Subject_used_Riluzole: 75.7%\n",
      "\n"
     ]
    }
   ],
   "source": [
    "# Print statistics for PROACT dataset\n",
    "df['Time_in_study'] = df.apply(lambda x: max(x['TTE_Speech'],  x['TTE_Swallowing'], x['TTE_Handwriting'], x['TTE_Walking']), axis=1)\n",
    "df['SOO_Limb'] = df['Site_of_Onset'].apply(lambda x: 1 if x in [\"Limb\", \"LimbAndBulbar\"] else 0)\n",
    "df['SOO_Bulbar'] = df['Site_of_Onset'].apply(lambda x: 1 if x in [\"Bulbar\", \"LimbAndBulbar\"] else 0)\n",
    "df['SOO_Other'] = df['Site_of_Onset'].apply(lambda x: 1 if x in [\"Other\"] else 0)\n",
    "\n",
    "num_features = ['Age', 'Height', 'Weight', \"BMI\", 'ALSFRS_R_Total', 'Time_in_study']\n",
    "cat_features = ['Sex', 'Race_Caucasian', 'SOO_Limb', 'SOO_Bulbar', 'SOO_Spine', 'Subject_used_Riluzole']\n",
    "\n",
    "print(f\"N: {df.shape[0]}\")\n",
    "\n",
    "for col in num_features:\n",
    "    mean = df[col].astype(float).mean(axis=0).round(1)\n",
    "    std = df[col].astype(float).std(axis=0).round(1)\n",
    "    text = mean.astype(str) + \" (\" + std.astype(str) + \")\"\n",
    "    print(f\"{col}: {text}\")\n",
    "\n",
    "print()\n",
    "print(f\"Percentage of female: {df['Sex'].value_counts(normalize=True)['Female'] * 100:.1f}%\")\n",
    "print(f\"Percentage of Caucasian: {df['Race_Caucasian'].value_counts(normalize=True)[1.0] * 100:.1f}%\")\n",
    "print(f\"Percentage of SOO_Limb: {df['SOO_Limb'].value_counts(normalize=True)[1] * 100:.1f}%\")\n",
    "print(f\"Percentage of SOO_Bulbar: {df['SOO_Bulbar'].value_counts(normalize=True)[1] * 100:.1f}%\")\n",
    "print(f\"Percentage of SOO_Other: {df['SOO_Other'].value_counts(normalize=True)[1] * 100:.1f}%\")\n",
    "print(f\"Percentage of Subject_used_Riluzole: {df['Subject_used_Riluzole'].value_counts(normalize=True)['Yes'] * 100:.1f}%\")"
   ]
  }
 ],
 "metadata": {
  "kernelspec": {
   "display_name": "py39-als",
   "language": "python",
   "name": "python3"
  },
  "language_info": {
   "codemirror_mode": {
    "name": "ipython",
    "version": 3
   },
   "file_extension": ".py",
   "mimetype": "text/x-python",
   "name": "python",
   "nbconvert_exporter": "python",
   "pygments_lexer": "ipython3",
   "version": "3.9.19"
  }
 },
 "nbformat": 4,
 "nbformat_minor": 2
}
