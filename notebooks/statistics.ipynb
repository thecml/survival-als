{
 "cells": [
  {
   "cell_type": "code",
   "execution_count": 1,
   "metadata": {},
   "outputs": [
    {
     "name": "stderr",
     "output_type": "stream",
     "text": [
      "c:\\Users\\au475271\\Miniconda3\\envs\\py39-als\\lib\\site-packages\\tqdm\\auto.py:21: TqdmWarning: IProgress not found. Please update jupyter and ipywidgets. See https://ipywidgets.readthedocs.io/en/stable/user_install.html\n",
      "  from .autonotebook import tqdm as notebook_tqdm\n"
     ]
    }
   ],
   "source": [
    "import config as cfg\n",
    "from pathlib import Path\n",
    "import pandas as pd\n",
    "import matplotlib.pyplot as plt\n",
    "import seaborn as sns\n",
    "import numpy as np\n",
    "import torch\n",
    "\n",
    "# Load CALSNIC\n",
    "date_cols = ['Visit_Date', 'Date of death', 'ALSFRS_Date', 'SymptomOnset_Date']\n",
    "calsnic_df = pd.read_csv(Path.joinpath(cfg.CALSNIC_DATA_DIR, 'calsnic_processed.csv'), index_col=0, parse_dates=date_cols)\n",
    "\n",
    "# Load PROACT\n",
    "proact_df = pd.read_csv(Path.joinpath(cfg.PROACT_DATA_DIR, 'proact_processed.csv'), index_col=0)"
   ]
  },
  {
   "cell_type": "code",
   "execution_count": 4,
   "metadata": {},
   "outputs": [
    {
     "data": {
      "text/plain": [
       "Index(['PSCID', 'Visit', 'Symptom_Duration', 'Visit_details', 'Visit_Date',\n",
       "       'Status', 'Date of death', 'Cause of death', 'ALSFRS_Date',\n",
       "       'ALSFRS_1_Speech', 'ALSFRS_2_Salivation', 'ALSFRS_3_Swallowing',\n",
       "       'ALSFRS_Bulbar_Subscore', 'ALSFRS_4_Handwriting',\n",
       "       'ALSFRS_GastrostomyPresent', 'ALSFRS_5_Cuttingfood&handlingutensils',\n",
       "       'ALSFRS_6_Dressing&hygiene', 'ALSFRS_Fine Motor',\n",
       "       'ALSFRS_7_Turninginbed', 'ALSFRS_8_Walking', 'ALSFRS_9_Climbingstairs',\n",
       "       'ALSFRS_Gross Motor', 'ALSFRS_10_Dyspnea', 'ALSFRS_11_Orthopnea',\n",
       "       'ALSFRS_12_RespiratoryInsufficiency', 'ALSFRS_Breathing_Subscore',\n",
       "       'ALSFRS_TotalScore', 'UMN_Right', 'UMN_Left', 'LMN_Right', 'LMN_Left',\n",
       "       'ECAS_ALSNonSpecific_Total', 'ECAS_ALSSpecific_Total', 'Handedness',\n",
       "       'YearsEd', 'Diagnosis', 'Sex', 'Age', 'SymptomOnset_Date',\n",
       "       'Region_of_Onset', 'Subject_used_Riluzole', 'FVC_Average', 'Weight',\n",
       "       'Height', 'Ethnicity', 'BMI', 'Visit_Diff', 'SymptomDays',\n",
       "       'DiseaseProgressionRate', 'Event_Speech', 'Event_Swallowing',\n",
       "       'Event_Handwriting', 'Event_Walking', 'TTE_Speech', 'TTE_Swallowing',\n",
       "       'TTE_Handwriting', 'TTE_Walking', 'Event_Death', 'TTE_Death',\n",
       "       'Time_in_study', 'SOO_Limb', 'SOO_Bulbar'],\n",
       "      dtype='object')"
      ]
     },
     "execution_count": 4,
     "metadata": {},
     "output_type": "execute_result"
    }
   ],
   "source": [
    "calsnic_df.columns"
   ]
  },
  {
   "cell_type": "code",
   "execution_count": 6,
   "metadata": {},
   "outputs": [
    {
     "name": "stdout",
     "output_type": "stream",
     "text": [
      "N: 152\n",
      "Age: 59.5 (10.6)\n",
      "Height: 167.3 (19.2)\n",
      "Weight: 76.5 (18.6)\n",
      "BMI: 27.0 (4.6)\n",
      "ALSFRS_TotalScore: 37.8 (5.6)\n",
      "Time_in_study: 152.0 (60.6)\n",
      "\n",
      "Percentage of female: 40.1%\n",
      "Percentage of SOO_Limb: 80.9%\n",
      "Percentage of SOO_Bulbar: 17.1%\n",
      "Percentage of Subject_used_Riluzole: 59.2%\n",
      "\n"
     ]
    }
   ],
   "source": [
    "# Print statistics for CALSNIC dataset\n",
    "df = calsnic_df\n",
    "df['Time_in_study'] = df.apply(lambda x: max(x['TTE_Speech'],  x['TTE_Swallowing'], x['TTE_Handwriting'], x['TTE_Walking']), axis=1)\n",
    "df['SOO_Limb'] = df['Region_of_Onset'].apply(lambda x: 1 if x in [\"lower_extremity\", \"upper_extremity\", 'upper_extremity_lower_extremity'] else 0)\n",
    "df['SOO_Bulbar'] = df['Region_of_Onset'].apply(lambda x: 1 if x in [\"bulbar\"] else 0)\n",
    "\n",
    "num_features = ['Age', 'Height', 'Weight', 'BMI', 'ALSFRS_TotalScore', 'Time_in_study']\n",
    "cat_features = ['Sex', 'SOO_Limb', 'SOO_Bulbar', 'SOO_Spine', 'Subject_used_Riluzole']\n",
    "\n",
    "print(f\"N: {df.shape[0]}\")\n",
    "\n",
    "for col in num_features:\n",
    "    mean = df[col].astype(float).mean(axis=0).round(1)\n",
    "    std = df[col].astype(float).std(axis=0).round(1)\n",
    "    text = mean.astype(str) + \" (\" + std.astype(str) + \")\"\n",
    "    print(f\"{col}: {text}\")\n",
    "\n",
    "print()\n",
    "print(f\"Percentage of female: {df['Sex'].value_counts(normalize=True)['Female'] * 100:.1f}%\")\n",
    "print(f\"Percentage of SOO_Limb: {df['SOO_Limb'].value_counts(normalize=True)[1] * 100:.1f}%\")\n",
    "print(f\"Percentage of SOO_Bulbar: {df['SOO_Bulbar'].value_counts(normalize=True)[1] * 100:.1f}%\")\n",
    "print(f\"Percentage of Subject_used_Riluzole: {df['Subject_used_Riluzole'].value_counts(normalize=True)['Yes'] * 100:.1f}%\")\n",
    "print()"
   ]
  },
  {
   "cell_type": "code",
   "execution_count": 8,
   "metadata": {},
   "outputs": [
    {
     "name": "stdout",
     "output_type": "stream",
     "text": [
      "N: 5906\n",
      "Age (event): 56.0 (11.7)\n",
      "Height (event): 171.6 (9.3)\n",
      "Weight (event): 77.1 (14.9)\n",
      "BMI (event): 26.2 (4.3)\n",
      "ALSFRS_R_Total (event): 37.6 (5.5)\n",
      "Time_in_study (event): 292.7 (192.5)\n",
      "\n",
      "Percentage of female: 36.8%\n",
      "Percentage of Caucasian: 93.3%\n",
      "Percentage of SOO_Limb: 36.3%\n",
      "Percentage of SOO_Bulbar: 10.5%\n",
      "Percentage of SOO_Other: 6.0%\n",
      "Percentage of Subject_used_Riluzole: 85.3%\n",
      "\n"
     ]
    }
   ],
   "source": [
    "# Print statistics for PROACT dataset\n",
    "df = proact_df\n",
    "df['Time_in_study'] = df.apply(lambda x: max(x['TTE_Speech'],  x['TTE_Swallowing'], x['TTE_Handwriting'], x['TTE_Walking']), axis=1)\n",
    "df['SOO_Limb'] = df['Site_of_Onset'].apply(lambda x: 1 if x in [\"Limb\", \"LimbAndBulbar\"] else 0)\n",
    "df['SOO_Bulbar'] = df['Site_of_Onset'].apply(lambda x: 1 if x in [\"Bulbar\", \"LimbAndBulbar\"] else 0)\n",
    "df['SOO_Other'] = df['Site_of_Onset'].apply(lambda x: 1 if x in [\"Other\"] else 0)\n",
    "\n",
    "num_features = ['Age', 'Height', 'Weight', \"BMI\", 'ALSFRS_R_Total', 'Time_in_study']\n",
    "cat_features = ['Sex', 'Race_Caucasian', 'SOO_Limb', 'SOO_Bulbar', 'SOO_Spine', 'Subject_used_Riluzole']\n",
    "\n",
    "print(f\"N: {df.shape[0]}\")\n",
    "\n",
    "for col in num_features:\n",
    "    mean = df[col].astype(float).mean(axis=0).round(1)\n",
    "    std = df[col].astype(float).std(axis=0).round(1)\n",
    "    text = mean.astype(str) + \" (\" + std.astype(str) + \")\"\n",
    "    print(f\"{col} (event): {text}\")\n",
    "\n",
    "print()\n",
    "print(f\"Percentage of female: {df['Sex'].value_counts(normalize=True)['Female'] * 100:.1f}%\")\n",
    "print(f\"Percentage of Caucasian: {df['Race_Caucasian'].value_counts(normalize=True)[1.0] * 100:.1f}%\")\n",
    "print(f\"Percentage of SOO_Limb: {df['SOO_Limb'].value_counts(normalize=True)[1] * 100:.1f}%\")\n",
    "print(f\"Percentage of SOO_Bulbar: {df['SOO_Bulbar'].value_counts(normalize=True)[1] * 100:.1f}%\")\n",
    "print(f\"Percentage of SOO_Other: {df['SOO_Other'].value_counts(normalize=True)[1] * 100:.1f}%\")\n",
    "print(f\"Percentage of Subject_used_Riluzole: {df['Subject_used_Riluzole'].value_counts(normalize=True)['Yes'] * 100:.1f}%\")\n",
    "print()"
   ]
  }
 ],
 "metadata": {
  "kernelspec": {
   "display_name": "py39-als",
   "language": "python",
   "name": "python3"
  },
  "language_info": {
   "codemirror_mode": {
    "name": "ipython",
    "version": 3
   },
   "file_extension": ".py",
   "mimetype": "text/x-python",
   "name": "python",
   "nbconvert_exporter": "python",
   "pygments_lexer": "ipython3",
   "version": "3.9.18"
  }
 },
 "nbformat": 4,
 "nbformat_minor": 2
}
