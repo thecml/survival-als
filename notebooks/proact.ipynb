{
 "cells": [
  {
   "cell_type": "markdown",
   "metadata": {},
   "source": [
    "# PROACT Dataset"
   ]
  },
  {
   "cell_type": "code",
   "execution_count": null,
   "metadata": {},
   "outputs": [
    {
     "name": "stderr",
     "output_type": "stream",
     "text": [
      "c:\\Users\\cml\\miniconda3\\envs\\py39-als\\lib\\site-packages\\tqdm\\auto.py:21: TqdmWarning: IProgress not found. Please update jupyter and ipywidgets. See https://ipywidgets.readthedocs.io/en/stable/user_install.html\n",
      "  from .autonotebook import tqdm as notebook_tqdm\n"
     ]
    }
   ],
   "source": [
    "import config as cfg\n",
    "from pathlib import Path\n",
    "import pandas as pd\n",
    "import matplotlib.pyplot as plt\n",
    "import numpy as np\n",
    "\n",
    "matplotlib_style = 'default'\n",
    "import matplotlib.pyplot as plt; plt.style.use(matplotlib_style)\n",
    "plt.rcParams.update({'axes.labelsize': 'medium',\n",
    "                     'axes.titlesize': 'medium',\n",
    "                     'font.size': 14.0,\n",
    "                     'text.usetex': True,\n",
    "                     'text.latex.preamble': r'\\usepackage{amsfonts} \\usepackage{bm}'})\n",
    "\n",
    "from utility.plot import load_tf_color\n",
    "TFColor = load_tf_color()\n",
    "\n",
    "df = pd.read_csv(Path.joinpath(cfg.PROACT_DATA_DIR, 'proact_processed.csv'), index_col=0)\n",
    "event_names = ['Speech', 'Swallowing', 'Handwriting', 'Walking']\n",
    "for event_name in event_names:\n",
    "    df = df.loc[(df[f'Event_{event_name}'] == 0) | (df[f'Event_{event_name}'] == 1)] # drop already occured\n",
    "    df = df.loc[(df[f'TTE_{event_name}'] > 0) & (df[f'TTE_{event_name}'] <= 500)] # 1 - 500\n",
    "df = df.drop(df.filter(like='_Strength').columns, axis=1) # Drop strength tests\n",
    "df = df.drop('Race_Caucasian', axis=1) # Drop race information\n",
    "df = df.drop('El_escorial', axis=1) # Drop el_escorial\n",
    "df = df.drop(['Height', 'Weight', 'BMI'], axis=1) # Drop height/weight/bmi"
   ]
  },
  {
   "cell_type": "code",
   "execution_count": 2,
   "metadata": {},
   "outputs": [
    {
     "name": "stdout",
     "output_type": "stream",
     "text": [
      "1.0\n",
      "498.0\n",
      "133.11160791057608\n"
     ]
    }
   ],
   "source": [
    "event_times = df[[\"TTE_Speech\", \"TTE_Swallowing\", \"TTE_Handwriting\", \"TTE_Walking\"]].to_numpy()\n",
    "event_indicators = df[[\"Event_Speech\", \"Event_Swallowing\", \"Event_Handwriting\", \"Event_Walking\"]].to_numpy()\n",
    "masked_event_times = np.where(event_indicators == 1, event_times, np.nan)\n",
    "min_time = np.nanmin(masked_event_times)\n",
    "max_time = np.nanmax(masked_event_times)\n",
    "mean_time = np.nanmean(masked_event_times)\n",
    "print(min_time)\n",
    "print(max_time)\n",
    "print(mean_time)"
   ]
  },
  {
   "cell_type": "code",
   "execution_count": 5,
   "metadata": {},
   "outputs": [
    {
     "name": "stdout",
     "output_type": "stream",
     "text": [
      "Number of samples: 3220\n",
      "Number of censored/uncensored: 2004.0/1216.0\n",
      "37.76% of records are uncensored\n",
      "\n",
      "Number of samples: 3220\n",
      "Number of censored/uncensored: 2192.0/1028.0\n",
      "31.93% of records are uncensored\n",
      "\n",
      "Number of samples: 3220\n",
      "Number of censored/uncensored: 1600.0/1620.0\n",
      "50.31% of records are uncensored\n",
      "\n",
      "Number of samples: 3220\n",
      "Number of censored/uncensored: 1269.0/1951.0\n",
      "60.59% of records are uncensored\n",
      "\n"
     ]
    }
   ],
   "source": [
    "# Print event distribution\n",
    "for event_col in event_names:\n",
    "    obs_arr = np.array(df[f\"Event_{event_col}\"])\n",
    "    n_censored = obs_arr.shape[0] - obs_arr.sum()\n",
    "    print(f\"Number of samples: {len(df)}\")\n",
    "    print(f\"Number of censored/uncensored: {n_censored}/{obs_arr.shape[0]-n_censored}\")\n",
    "    print(f\"{round((obs_arr.shape[0]-n_censored) / obs_arr.shape[0] * 100, 2)}% of records are uncensored\\n\")"
   ]
  }
 ],
 "metadata": {
  "kernelspec": {
   "display_name": "py39-als",
   "language": "python",
   "name": "python3"
  },
  "language_info": {
   "codemirror_mode": {
    "name": "ipython",
    "version": 3
   },
   "file_extension": ".py",
   "mimetype": "text/x-python",
   "name": "python",
   "nbconvert_exporter": "python",
   "pygments_lexer": "ipython3",
   "version": "3.9.19"
  }
 },
 "nbformat": 4,
 "nbformat_minor": 2
}
