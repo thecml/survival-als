{
 "cells": [
  {
   "cell_type": "markdown",
   "metadata": {},
   "source": [
    "# PROACT Dataset"
   ]
  },
  {
   "cell_type": "code",
   "execution_count": 1,
   "metadata": {},
   "outputs": [],
   "source": [
    "import config as cfg\n",
    "from pathlib import Path\n",
    "import pandas as pd\n",
    "import matplotlib.pyplot as plt\n",
    "import numpy as np\n",
    "\n",
    "matplotlib_style = 'default'\n",
    "import matplotlib.pyplot as plt; plt.style.use(matplotlib_style)\n",
    "plt.rcParams.update({'axes.labelsize': 'medium',\n",
    "                     'axes.titlesize': 'medium',\n",
    "                     'font.size': 14.0,\n",
    "                     'text.usetex': True,\n",
    "                     'text.latex.preamble': r'\\usepackage{amsfonts} \\usepackage{bm}'})\n",
    "\n",
    "from utility.plot import load_tf_color\n",
    "TFColor = load_tf_color()\n",
    "\n",
    "df = pd.read_csv(Path.joinpath(cfg.PROACT_DATA_DIR, 'proact_processed.csv'), index_col=0)\n",
    "event_names = ['Speech', 'Swallowing', 'Handwriting', 'Walking', 'Dyspnea']\n",
    "for event_name in event_names:\n",
    "    df = df.loc[(df[f'Event_{event_name}'] == 0) | (df[f'Event_{event_name}'] == 1)] # drop already occured\n",
    "    df = df.loc[(df[f'TTE_{event_name}'] > 0) & (df[f'TTE_{event_name}'] <= 500)] # 1 - 500\n",
    "df = df.drop(df.filter(like='_Strength').columns, axis=1) # Drop strength tests\n",
    "df = df.drop('Race_Caucasian', axis=1) # Drop race information\n",
    "df = df.drop('El_escorial', axis=1) # Drop el_escorial\n",
    "df = df.drop(['Height', 'Weight', 'BMI'], axis=1) # Drop height/weight/bmi"
   ]
  },
  {
   "cell_type": "code",
   "execution_count": 2,
   "metadata": {},
   "outputs": [
    {
     "name": "stdout",
     "output_type": "stream",
     "text": [
      "1.0\n",
      "498.0\n",
      "130.69117647058823\n"
     ]
    }
   ],
   "source": [
    "event_times = df[[\"TTE_Speech\", \"TTE_Swallowing\", \"TTE_Handwriting\", \"TTE_Walking\", \"TTE_Dyspnea\"]].to_numpy()\n",
    "event_indicators = df[[\"Event_Speech\", \"Event_Swallowing\", \"Event_Handwriting\", \"Event_Walking\", \"Event_Dyspnea\"]].to_numpy()\n",
    "masked_event_times = np.where(event_indicators == 1, event_times, np.nan)\n",
    "min_time = np.nanmin(masked_event_times)\n",
    "max_time = np.nanmax(masked_event_times)\n",
    "mean_time = np.nanmean(masked_event_times)\n",
    "print(min_time)\n",
    "print(max_time)\n",
    "print(mean_time)"
   ]
  },
  {
   "cell_type": "code",
   "execution_count": 3,
   "metadata": {},
   "outputs": [
    {
     "name": "stdout",
     "output_type": "stream",
     "text": [
      "Number of samples: 3053\n",
      "Number of censored/uncensored: 1962.0/1091.0\n",
      "35.74% of records are uncensored\n",
      "\n",
      "Number of samples: 3053\n",
      "Number of censored/uncensored: 2148.0/905.0\n",
      "29.64% of records are uncensored\n",
      "\n",
      "Number of samples: 3053\n",
      "Number of censored/uncensored: 1572.0/1481.0\n",
      "48.51% of records are uncensored\n",
      "\n",
      "Number of samples: 3053\n",
      "Number of censored/uncensored: 1234.0/1819.0\n",
      "59.58% of records are uncensored\n",
      "\n",
      "Number of samples: 3053\n",
      "Number of censored/uncensored: 2229.0/824.0\n",
      "26.99% of records are uncensored\n",
      "\n"
     ]
    }
   ],
   "source": [
    "# Print event distribution\n",
    "for event_col in event_names:\n",
    "    obs_arr = np.array(df[f\"Event_{event_col}\"])\n",
    "    n_censored = obs_arr.shape[0] - obs_arr.sum()\n",
    "    print(f\"Number of samples: {len(df)}\")\n",
    "    print(f\"Number of censored/uncensored: {n_censored}/{obs_arr.shape[0]-n_censored}\")\n",
    "    print(f\"{round((obs_arr.shape[0]-n_censored) / obs_arr.shape[0] * 100, 2)}% of records are uncensored\\n\")"
   ]
  }
 ],
 "metadata": {
  "kernelspec": {
   "display_name": "py39-als",
   "language": "python",
   "name": "python3"
  },
  "language_info": {
   "codemirror_mode": {
    "name": "ipython",
    "version": 3
   },
   "file_extension": ".py",
   "mimetype": "text/x-python",
   "name": "python",
   "nbconvert_exporter": "python",
   "pygments_lexer": "ipython3",
   "version": "3.9.19"
  }
 },
 "nbformat": 4,
 "nbformat_minor": 2
}
